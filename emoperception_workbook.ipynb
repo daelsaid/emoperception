{
  "cells": [
    {
      "cell_type": "code",
      "source": [
        "import os\n",
        "from glob import glob\n",
        "import numpy as np\n",
        "import re\n",
        "import matplotlib as plt \n",
        "%matplotlib"
      ],
      "outputs": [
        {
          "output_type": "error",
          "ename": "ImportError",
          "evalue": "dlopen(/Users/lillyel-said/anaconda2/lib/python2.7/site-packages/matplotlib/ft2font.so, 2): Library not loaded: @rpath/libpng16.16.dylib\n  Referenced from: /Users/lillyel-said/anaconda2/lib/libfreetype.6.dylib\n  Reason: Incompatible library version: libfreetype.6.dylib requires version 45.0.0 or later, but libpng16.16.dylib provides version 39.0.0",
          "traceback": [
            "\u001b[0;31m\u001b[0m",
            "\u001b[0;31mImportError\u001b[0mTraceback (most recent call last)",
            "\u001b[0;32m<ipython-input-2-e0c4519b4c1f>\u001b[0m in \u001b[0;36m<module>\u001b[0;34m()\u001b[0m\n\u001b[1;32m      4\u001b[0m \u001b[0;32mimport\u001b[0m \u001b[0mre\u001b[0m\u001b[0;34m\u001b[0m\u001b[0m\n\u001b[1;32m      5\u001b[0m \u001b[0;32mimport\u001b[0m \u001b[0mmatplotlib\u001b[0m \u001b[0;32mas\u001b[0m \u001b[0mplt\u001b[0m\u001b[0;34m\u001b[0m\u001b[0m\n\u001b[0;32m----> 6\u001b[0;31m \u001b[0mget_ipython\u001b[0m\u001b[0;34m(\u001b[0m\u001b[0;34m)\u001b[0m\u001b[0;34m.\u001b[0m\u001b[0mmagic\u001b[0m\u001b[0;34m(\u001b[0m\u001b[0;34mu'matplotlib'\u001b[0m\u001b[0;34m)\u001b[0m\u001b[0;34m\u001b[0m\u001b[0m\n\u001b[0m",
            "\u001b[0;32m/Users/lillyel-said/anaconda2/lib/python2.7/site-packages/IPython/core/interactiveshell.pyc\u001b[0m in \u001b[0;36mmagic\u001b[0;34m(self, arg_s)\u001b[0m\n\u001b[1;32m   2156\u001b[0m         \u001b[0mmagic_name\u001b[0m\u001b[0;34m,\u001b[0m \u001b[0m_\u001b[0m\u001b[0;34m,\u001b[0m \u001b[0mmagic_arg_s\u001b[0m \u001b[0;34m=\u001b[0m \u001b[0marg_s\u001b[0m\u001b[0;34m.\u001b[0m\u001b[0mpartition\u001b[0m\u001b[0;34m(\u001b[0m\u001b[0;34m' '\u001b[0m\u001b[0;34m)\u001b[0m\u001b[0;34m\u001b[0m\u001b[0m\n\u001b[1;32m   2157\u001b[0m         \u001b[0mmagic_name\u001b[0m \u001b[0;34m=\u001b[0m \u001b[0mmagic_name\u001b[0m\u001b[0;34m.\u001b[0m\u001b[0mlstrip\u001b[0m\u001b[0;34m(\u001b[0m\u001b[0mprefilter\u001b[0m\u001b[0;34m.\u001b[0m\u001b[0mESC_MAGIC\u001b[0m\u001b[0;34m)\u001b[0m\u001b[0;34m\u001b[0m\u001b[0m\n\u001b[0;32m-> 2158\u001b[0;31m         \u001b[0;32mreturn\u001b[0m \u001b[0mself\u001b[0m\u001b[0;34m.\u001b[0m\u001b[0mrun_line_magic\u001b[0m\u001b[0;34m(\u001b[0m\u001b[0mmagic_name\u001b[0m\u001b[0;34m,\u001b[0m \u001b[0mmagic_arg_s\u001b[0m\u001b[0;34m)\u001b[0m\u001b[0;34m\u001b[0m\u001b[0m\n\u001b[0m\u001b[1;32m   2159\u001b[0m \u001b[0;34m\u001b[0m\u001b[0m\n\u001b[1;32m   2160\u001b[0m     \u001b[0;31m#-------------------------------------------------------------------------\u001b[0m\u001b[0;34m\u001b[0m\u001b[0;34m\u001b[0m\u001b[0m\n",
            "\u001b[0;32m/Users/lillyel-said/anaconda2/lib/python2.7/site-packages/IPython/core/interactiveshell.pyc\u001b[0m in \u001b[0;36mrun_line_magic\u001b[0;34m(self, magic_name, line)\u001b[0m\n\u001b[1;32m   2077\u001b[0m                 \u001b[0mkwargs\u001b[0m\u001b[0;34m[\u001b[0m\u001b[0;34m'local_ns'\u001b[0m\u001b[0;34m]\u001b[0m \u001b[0;34m=\u001b[0m \u001b[0msys\u001b[0m\u001b[0;34m.\u001b[0m\u001b[0m_getframe\u001b[0m\u001b[0;34m(\u001b[0m\u001b[0mstack_depth\u001b[0m\u001b[0;34m)\u001b[0m\u001b[0;34m.\u001b[0m\u001b[0mf_locals\u001b[0m\u001b[0;34m\u001b[0m\u001b[0m\n\u001b[1;32m   2078\u001b[0m             \u001b[0;32mwith\u001b[0m \u001b[0mself\u001b[0m\u001b[0;34m.\u001b[0m\u001b[0mbuiltin_trap\u001b[0m\u001b[0;34m:\u001b[0m\u001b[0;34m\u001b[0m\u001b[0m\n\u001b[0;32m-> 2079\u001b[0;31m                 \u001b[0mresult\u001b[0m \u001b[0;34m=\u001b[0m \u001b[0mfn\u001b[0m\u001b[0;34m(\u001b[0m\u001b[0;34m*\u001b[0m\u001b[0margs\u001b[0m\u001b[0;34m,\u001b[0m\u001b[0;34m**\u001b[0m\u001b[0mkwargs\u001b[0m\u001b[0;34m)\u001b[0m\u001b[0;34m\u001b[0m\u001b[0m\n\u001b[0m\u001b[1;32m   2080\u001b[0m             \u001b[0;32mreturn\u001b[0m \u001b[0mresult\u001b[0m\u001b[0;34m\u001b[0m\u001b[0m\n\u001b[1;32m   2081\u001b[0m \u001b[0;34m\u001b[0m\u001b[0m\n",
            "\u001b[0;32m<decorator-gen-104>\u001b[0m in \u001b[0;36mmatplotlib\u001b[0;34m(self, line)\u001b[0m\n",
            "\u001b[0;32m/Users/lillyel-said/anaconda2/lib/python2.7/site-packages/IPython/core/magic.pyc\u001b[0m in \u001b[0;36m<lambda>\u001b[0;34m(f, *a, **k)\u001b[0m\n\u001b[1;32m    186\u001b[0m     \u001b[0;31m# but it's overkill for just that one bit of state.\u001b[0m\u001b[0;34m\u001b[0m\u001b[0;34m\u001b[0m\u001b[0m\n\u001b[1;32m    187\u001b[0m     \u001b[0;32mdef\u001b[0m \u001b[0mmagic_deco\u001b[0m\u001b[0;34m(\u001b[0m\u001b[0marg\u001b[0m\u001b[0;34m)\u001b[0m\u001b[0;34m:\u001b[0m\u001b[0;34m\u001b[0m\u001b[0m\n\u001b[0;32m--> 188\u001b[0;31m         \u001b[0mcall\u001b[0m \u001b[0;34m=\u001b[0m \u001b[0;32mlambda\u001b[0m \u001b[0mf\u001b[0m\u001b[0;34m,\u001b[0m \u001b[0;34m*\u001b[0m\u001b[0ma\u001b[0m\u001b[0;34m,\u001b[0m \u001b[0;34m**\u001b[0m\u001b[0mk\u001b[0m\u001b[0;34m:\u001b[0m \u001b[0mf\u001b[0m\u001b[0;34m(\u001b[0m\u001b[0;34m*\u001b[0m\u001b[0ma\u001b[0m\u001b[0;34m,\u001b[0m \u001b[0;34m**\u001b[0m\u001b[0mk\u001b[0m\u001b[0;34m)\u001b[0m\u001b[0;34m\u001b[0m\u001b[0m\n\u001b[0m\u001b[1;32m    189\u001b[0m \u001b[0;34m\u001b[0m\u001b[0m\n\u001b[1;32m    190\u001b[0m         \u001b[0;32mif\u001b[0m \u001b[0mcallable\u001b[0m\u001b[0;34m(\u001b[0m\u001b[0marg\u001b[0m\u001b[0;34m)\u001b[0m\u001b[0;34m:\u001b[0m\u001b[0;34m\u001b[0m\u001b[0m\n",
            "\u001b[0;32m/Users/lillyel-said/anaconda2/lib/python2.7/site-packages/IPython/core/magics/pylab.pyc\u001b[0m in \u001b[0;36mmatplotlib\u001b[0;34m(self, line)\u001b[0m\n\u001b[1;32m     98\u001b[0m             \u001b[0;32mprint\u001b[0m\u001b[0;34m(\u001b[0m\u001b[0;34m\"Available matplotlib backends: %s\"\u001b[0m \u001b[0;34m%\u001b[0m \u001b[0mbackends_list\u001b[0m\u001b[0;34m)\u001b[0m\u001b[0;34m\u001b[0m\u001b[0m\n\u001b[1;32m     99\u001b[0m         \u001b[0;32melse\u001b[0m\u001b[0;34m:\u001b[0m\u001b[0;34m\u001b[0m\u001b[0m\n\u001b[0;32m--> 100\u001b[0;31m             \u001b[0mgui\u001b[0m\u001b[0;34m,\u001b[0m \u001b[0mbackend\u001b[0m \u001b[0;34m=\u001b[0m \u001b[0mself\u001b[0m\u001b[0;34m.\u001b[0m\u001b[0mshell\u001b[0m\u001b[0;34m.\u001b[0m\u001b[0menable_matplotlib\u001b[0m\u001b[0;34m(\u001b[0m\u001b[0margs\u001b[0m\u001b[0;34m.\u001b[0m\u001b[0mgui\u001b[0m\u001b[0;34m)\u001b[0m\u001b[0;34m\u001b[0m\u001b[0m\n\u001b[0m\u001b[1;32m    101\u001b[0m             \u001b[0mself\u001b[0m\u001b[0;34m.\u001b[0m\u001b[0m_show_matplotlib_backend\u001b[0m\u001b[0;34m(\u001b[0m\u001b[0margs\u001b[0m\u001b[0;34m.\u001b[0m\u001b[0mgui\u001b[0m\u001b[0;34m,\u001b[0m \u001b[0mbackend\u001b[0m\u001b[0;34m)\u001b[0m\u001b[0;34m\u001b[0m\u001b[0m\n\u001b[1;32m    102\u001b[0m \u001b[0;34m\u001b[0m\u001b[0m\n",
            "\u001b[0;32m/Users/lillyel-said/anaconda2/lib/python2.7/site-packages/IPython/core/interactiveshell.pyc\u001b[0m in \u001b[0;36menable_matplotlib\u001b[0;34m(self, gui)\u001b[0m\n\u001b[1;32m   2945\u001b[0m                 \u001b[0mgui\u001b[0m\u001b[0;34m,\u001b[0m \u001b[0mbackend\u001b[0m \u001b[0;34m=\u001b[0m \u001b[0mpt\u001b[0m\u001b[0;34m.\u001b[0m\u001b[0mfind_gui_and_backend\u001b[0m\u001b[0;34m(\u001b[0m\u001b[0mself\u001b[0m\u001b[0;34m.\u001b[0m\u001b[0mpylab_gui_select\u001b[0m\u001b[0;34m)\u001b[0m\u001b[0;34m\u001b[0m\u001b[0m\n\u001b[1;32m   2946\u001b[0m \u001b[0;34m\u001b[0m\u001b[0m\n\u001b[0;32m-> 2947\u001b[0;31m         \u001b[0mpt\u001b[0m\u001b[0;34m.\u001b[0m\u001b[0mactivate_matplotlib\u001b[0m\u001b[0;34m(\u001b[0m\u001b[0mbackend\u001b[0m\u001b[0;34m)\u001b[0m\u001b[0;34m\u001b[0m\u001b[0m\n\u001b[0m\u001b[1;32m   2948\u001b[0m         \u001b[0mpt\u001b[0m\u001b[0;34m.\u001b[0m\u001b[0mconfigure_inline_support\u001b[0m\u001b[0;34m(\u001b[0m\u001b[0mself\u001b[0m\u001b[0;34m,\u001b[0m \u001b[0mbackend\u001b[0m\u001b[0;34m)\u001b[0m\u001b[0;34m\u001b[0m\u001b[0m\n\u001b[1;32m   2949\u001b[0m \u001b[0;34m\u001b[0m\u001b[0m\n",
            "\u001b[0;32m/Users/lillyel-said/anaconda2/lib/python2.7/site-packages/IPython/core/pylabtools.pyc\u001b[0m in \u001b[0;36mactivate_matplotlib\u001b[0;34m(backend)\u001b[0m\n\u001b[1;32m    292\u001b[0m     \u001b[0mmatplotlib\u001b[0m\u001b[0;34m.\u001b[0m\u001b[0mrcParams\u001b[0m\u001b[0;34m[\u001b[0m\u001b[0;34m'backend'\u001b[0m\u001b[0;34m]\u001b[0m \u001b[0;34m=\u001b[0m \u001b[0mbackend\u001b[0m\u001b[0;34m\u001b[0m\u001b[0m\n\u001b[1;32m    293\u001b[0m \u001b[0;34m\u001b[0m\u001b[0m\n\u001b[0;32m--> 294\u001b[0;31m     \u001b[0;32mimport\u001b[0m \u001b[0mmatplotlib\u001b[0m\u001b[0;34m.\u001b[0m\u001b[0mpyplot\u001b[0m\u001b[0;34m\u001b[0m\u001b[0m\n\u001b[0m\u001b[1;32m    295\u001b[0m     \u001b[0mmatplotlib\u001b[0m\u001b[0;34m.\u001b[0m\u001b[0mpyplot\u001b[0m\u001b[0;34m.\u001b[0m\u001b[0mswitch_backend\u001b[0m\u001b[0;34m(\u001b[0m\u001b[0mbackend\u001b[0m\u001b[0;34m)\u001b[0m\u001b[0;34m\u001b[0m\u001b[0m\n\u001b[1;32m    296\u001b[0m \u001b[0;34m\u001b[0m\u001b[0m\n",
            "\u001b[0;32m/Users/lillyel-said/anaconda2/lib/python2.7/site-packages/matplotlib/pyplot.py\u001b[0m in \u001b[0;36m<module>\u001b[0;34m()\u001b[0m\n\u001b[1;32m     30\u001b[0m \u001b[0;32mfrom\u001b[0m \u001b[0mcycler\u001b[0m \u001b[0;32mimport\u001b[0m \u001b[0mcycler\u001b[0m\u001b[0;34m\u001b[0m\u001b[0m\n\u001b[1;32m     31\u001b[0m \u001b[0;32mimport\u001b[0m \u001b[0mmatplotlib\u001b[0m\u001b[0;34m\u001b[0m\u001b[0m\n\u001b[0;32m---> 32\u001b[0;31m \u001b[0;32mimport\u001b[0m \u001b[0mmatplotlib\u001b[0m\u001b[0;34m.\u001b[0m\u001b[0mcolorbar\u001b[0m\u001b[0;34m\u001b[0m\u001b[0m\n\u001b[0m\u001b[1;32m     33\u001b[0m \u001b[0;32mfrom\u001b[0m \u001b[0mmatplotlib\u001b[0m \u001b[0;32mimport\u001b[0m \u001b[0mstyle\u001b[0m\u001b[0;34m\u001b[0m\u001b[0m\n\u001b[1;32m     34\u001b[0m \u001b[0;32mfrom\u001b[0m \u001b[0mmatplotlib\u001b[0m \u001b[0;32mimport\u001b[0m \u001b[0m_pylab_helpers\u001b[0m\u001b[0;34m,\u001b[0m \u001b[0minteractive\u001b[0m\u001b[0;34m\u001b[0m\u001b[0m\n",
            "\u001b[0;32m/Users/lillyel-said/anaconda2/lib/python2.7/site-packages/matplotlib/colorbar.py\u001b[0m in \u001b[0;36m<module>\u001b[0;34m()\u001b[0m\n\u001b[1;32m     34\u001b[0m \u001b[0;32mimport\u001b[0m \u001b[0mmatplotlib\u001b[0m\u001b[0;34m.\u001b[0m\u001b[0mcollections\u001b[0m \u001b[0;32mas\u001b[0m \u001b[0mcollections\u001b[0m\u001b[0;34m\u001b[0m\u001b[0m\n\u001b[1;32m     35\u001b[0m \u001b[0;32mimport\u001b[0m \u001b[0mmatplotlib\u001b[0m\u001b[0;34m.\u001b[0m\u001b[0mcolors\u001b[0m \u001b[0;32mas\u001b[0m \u001b[0mcolors\u001b[0m\u001b[0;34m\u001b[0m\u001b[0m\n\u001b[0;32m---> 36\u001b[0;31m \u001b[0;32mimport\u001b[0m \u001b[0mmatplotlib\u001b[0m\u001b[0;34m.\u001b[0m\u001b[0mcontour\u001b[0m \u001b[0;32mas\u001b[0m \u001b[0mcontour\u001b[0m\u001b[0;34m\u001b[0m\u001b[0m\n\u001b[0m\u001b[1;32m     37\u001b[0m \u001b[0;32mimport\u001b[0m \u001b[0mmatplotlib\u001b[0m\u001b[0;34m.\u001b[0m\u001b[0mcm\u001b[0m \u001b[0;32mas\u001b[0m \u001b[0mcm\u001b[0m\u001b[0;34m\u001b[0m\u001b[0m\n\u001b[1;32m     38\u001b[0m \u001b[0;32mimport\u001b[0m \u001b[0mmatplotlib\u001b[0m\u001b[0;34m.\u001b[0m\u001b[0mgridspec\u001b[0m \u001b[0;32mas\u001b[0m \u001b[0mgridspec\u001b[0m\u001b[0;34m\u001b[0m\u001b[0m\n",
            "\u001b[0;32m/Users/lillyel-said/anaconda2/lib/python2.7/site-packages/matplotlib/contour.py\u001b[0m in \u001b[0;36m<module>\u001b[0;34m()\u001b[0m\n\u001b[1;32m     19\u001b[0m \u001b[0;32mimport\u001b[0m \u001b[0mmatplotlib\u001b[0m\u001b[0;34m.\u001b[0m\u001b[0mcolors\u001b[0m \u001b[0;32mas\u001b[0m \u001b[0mcolors\u001b[0m\u001b[0;34m\u001b[0m\u001b[0m\n\u001b[1;32m     20\u001b[0m \u001b[0;32mimport\u001b[0m \u001b[0mmatplotlib\u001b[0m\u001b[0;34m.\u001b[0m\u001b[0mcollections\u001b[0m \u001b[0;32mas\u001b[0m \u001b[0mmcoll\u001b[0m\u001b[0;34m\u001b[0m\u001b[0m\n\u001b[0;32m---> 21\u001b[0;31m \u001b[0;32mimport\u001b[0m \u001b[0mmatplotlib\u001b[0m\u001b[0;34m.\u001b[0m\u001b[0mfont_manager\u001b[0m \u001b[0;32mas\u001b[0m \u001b[0mfont_manager\u001b[0m\u001b[0;34m\u001b[0m\u001b[0m\n\u001b[0m\u001b[1;32m     22\u001b[0m \u001b[0;32mimport\u001b[0m \u001b[0mmatplotlib\u001b[0m\u001b[0;34m.\u001b[0m\u001b[0mtext\u001b[0m \u001b[0;32mas\u001b[0m \u001b[0mtext\u001b[0m\u001b[0;34m\u001b[0m\u001b[0m\n\u001b[1;32m     23\u001b[0m \u001b[0;32mimport\u001b[0m \u001b[0mmatplotlib\u001b[0m\u001b[0;34m.\u001b[0m\u001b[0mcbook\u001b[0m \u001b[0;32mas\u001b[0m \u001b[0mcbook\u001b[0m\u001b[0;34m\u001b[0m\u001b[0m\n",
            "\u001b[0;32m/Users/lillyel-said/anaconda2/lib/python2.7/site-packages/matplotlib/font_manager.py\u001b[0m in \u001b[0;36m<module>\u001b[0;34m()\u001b[0m\n\u001b[1;32m     56\u001b[0m \u001b[0;34m\u001b[0m\u001b[0m\n\u001b[1;32m     57\u001b[0m \u001b[0;32mimport\u001b[0m \u001b[0mmatplotlib\u001b[0m\u001b[0;34m\u001b[0m\u001b[0m\n\u001b[0;32m---> 58\u001b[0;31m \u001b[0;32mfrom\u001b[0m \u001b[0mmatplotlib\u001b[0m \u001b[0;32mimport\u001b[0m \u001b[0mafm\u001b[0m\u001b[0;34m,\u001b[0m \u001b[0mcbook\u001b[0m\u001b[0;34m,\u001b[0m \u001b[0mft2font\u001b[0m\u001b[0;34m,\u001b[0m \u001b[0mrcParams\u001b[0m\u001b[0;34m,\u001b[0m \u001b[0mget_cachedir\u001b[0m\u001b[0;34m\u001b[0m\u001b[0m\n\u001b[0m\u001b[1;32m     59\u001b[0m \u001b[0;32mfrom\u001b[0m \u001b[0mmatplotlib\u001b[0m\u001b[0;34m.\u001b[0m\u001b[0mcompat\u001b[0m \u001b[0;32mimport\u001b[0m \u001b[0msubprocess\u001b[0m\u001b[0;34m\u001b[0m\u001b[0m\n\u001b[1;32m     60\u001b[0m from matplotlib.fontconfig_pattern import (\n",
            "\u001b[0;31mImportError\u001b[0m: dlopen(/Users/lillyel-said/anaconda2/lib/python2.7/site-packages/matplotlib/ft2font.so, 2): Library not loaded: @rpath/libpng16.16.dylib\n  Referenced from: /Users/lillyel-said/anaconda2/lib/libfreetype.6.dylib\n  Reason: Incompatible library version: libfreetype.6.dylib requires version 45.0.0 or later, but libpng16.16.dylib provides version 39.0.0"
          ]
        }
      ],
      "execution_count": 2,
      "metadata": {
        "collapsed": false
      }
    },
    {
      "cell_type": "code",
      "source": [
        "#define paths\n",
        "\n",
        "main_dir='/Volumes/daelsaid/data/emoperception_processing/17131'\n",
        "behav_dir='1/data/emoperception_processing/happy_cleanbehav/temp/'\n",
        "#behav_dir='/Volumes/daelsaid/data/emoperception_processing/17131'\n",
        "#happy=glob(os.path.join(main_dir,'emo_2','*.log'))[0]\n",
        "#anger=glob(os.path.join(main_dir,'emo_1','*.log'))[0]\n",
        "\n",
        "files=glob(os.path.join(behav_dir,'*.log'))\n",
        "\n",
        "#create filename to be used for txt file of conditions\n",
        "\n\n",
        "filename=happy.split('/')[-1].split('.')[0]\n",
        "subj=filename.split('_')[0]\n",
        "\n",
        "print filename,subj\n",
        "# for f in files:\n",
        "#     all_split=(re.split('; |_|/*|',f))\n",
        "#     filename.append([all_split[10]+'_'+all_split[12]+'_'])\n"
      ],
      "outputs": [
        {
          "output_type": "error",
          "ename": "NameError",
          "evalue": "name 'happy' is not defined",
          "traceback": [
            "\u001b[0;31m\u001b[0m",
            "\u001b[0;31mNameError\u001b[0mTraceback (most recent call last)",
            "\u001b[0;32m<ipython-input-3-ceadaa9d9ef1>\u001b[0m in \u001b[0;36m<module>\u001b[0;34m()\u001b[0m\n\u001b[1;32m     12\u001b[0m \u001b[0;34m\u001b[0m\u001b[0m\n\u001b[1;32m     13\u001b[0m \u001b[0;34m\u001b[0m\u001b[0m\n\u001b[0;32m---> 14\u001b[0;31m \u001b[0mfilename\u001b[0m\u001b[0;34m=\u001b[0m\u001b[0mhappy\u001b[0m\u001b[0;34m.\u001b[0m\u001b[0msplit\u001b[0m\u001b[0;34m(\u001b[0m\u001b[0;34m'/'\u001b[0m\u001b[0;34m)\u001b[0m\u001b[0;34m[\u001b[0m\u001b[0;34m-\u001b[0m\u001b[0;36m1\u001b[0m\u001b[0;34m]\u001b[0m\u001b[0;34m.\u001b[0m\u001b[0msplit\u001b[0m\u001b[0;34m(\u001b[0m\u001b[0;34m'.'\u001b[0m\u001b[0;34m)\u001b[0m\u001b[0;34m[\u001b[0m\u001b[0;36m0\u001b[0m\u001b[0;34m]\u001b[0m\u001b[0;34m\u001b[0m\u001b[0m\n\u001b[0m\u001b[1;32m     15\u001b[0m \u001b[0msubj\u001b[0m\u001b[0;34m=\u001b[0m\u001b[0mfilename\u001b[0m\u001b[0;34m.\u001b[0m\u001b[0msplit\u001b[0m\u001b[0;34m(\u001b[0m\u001b[0;34m'_'\u001b[0m\u001b[0;34m)\u001b[0m\u001b[0;34m[\u001b[0m\u001b[0;36m0\u001b[0m\u001b[0;34m]\u001b[0m\u001b[0;34m\u001b[0m\u001b[0m\n\u001b[1;32m     16\u001b[0m \u001b[0;34m\u001b[0m\u001b[0m\n",
            "\u001b[0;31mNameError\u001b[0m: name 'happy' is not defined"
          ]
        }
      ],
      "execution_count": 3,
      "metadata": {
        "collapsed": false,
        "scrolled": true
      }
    },
    {
      "cell_type": "code",
      "source": [
        "#read subject log lines into array\n",
        "\n",
        "def emotion_lines(emotion_files):\n",
        "    subj_log_lines=np.genfromtxt(emotion_files,delimiter=\"\\t\",dtype=str)\n",
        "    return subj_log_lines\n",
        "\n\n\nsubj_log_lines=np.genfromtxt(happy,delimiter=\"\\t\",dtype=str)"
      ],
      "outputs": [],
      "execution_count": null,
      "metadata": {
        "collapsed": false
      }
    },
    {
      "cell_type": "code",
      "source": [
        "#get scan trigger and trial timings and different trials\n",
        "\n",
        "trials=[]\n",
        "trial_timing=[]\n",
        "scan_start=[]\n",
        "\n",
        "for idx,line in enumerate(subj_log_lines):\n",
        "    if line[2] == 'text_2: autoDraw = True':\n",
        "        scan_start=float(line[0])        \n",
        "    if line[2].endswith('autoDraw = True'):\n",
        "        trial_timing.append([line[0],line[1],line[2]])\n",
        "    if line[2].startswith('New trial'):\n",
        "        trials.append([line[0],line[2]])\n",
        "    "
      ],
      "outputs": [],
      "execution_count": null,
      "metadata": {
        "collapsed": false
      }
    },
    {
      "cell_type": "code",
      "source": [
        "#extract duration of stimulus in seconds\n",
        "\n",
        "fix=np.array([x for x in trial_timing if x[2].startswith('FixCross')])\n",
        "image=np.array([x for x in trial_timing if x[2].startswith('Face')])\n",
        "mask=np.array([x for x in trial_timing if x[2].startswith('Mask')])\n",
        "\n\n",
        "f=fix[:,:][:,0].reshape(150,1).astype(float) \n",
        "i=image[:,:][:,0].reshape(150,1).astype(float)\n",
        "m=mask[:,:][:,0].reshape(150,1).astype(float) \n",
        "\n",
        "image_timing=np.subtract(m,i)\n",
        "iti=np.subtract(f[1:],f[:-1])\n"
      ],
      "outputs": [],
      "execution_count": null,
      "metadata": {
        "collapsed": false
      }
    },
    {
      "cell_type": "code",
      "source": [
        "#determine duration adn onsent time relative to scan start \n",
        "image_relative=np.subtract(i,scan_start)\n",
        "mask_relative=np.subtract(m,scan_start)"
      ],
      "outputs": [],
      "execution_count": null,
      "metadata": {
        "collapsed": false
      }
    },
    {
      "cell_type": "code",
      "source": [
        "#extract condition per trial, and percent emotion  of stimulus\n",
        "emotion_with_percent=[]\n",
        "index_with_cor=[]\n",
        "for_mat_file=[]\n",
        "for ix,trial in enumerate(trials):\n",
        "    index_with_cor.append([ix,trial[1].split(':')[3].split(\"['\")[1].split(\"']\")[0]])\n",
        "    percent_emotion=trial[1].split('{')[:][1].split(',')[4]\n",
        "    emotion=trial[1].split('{')[:][1].split(',')[0]\n",
        "    combined=(emotion.split(\"': u'\")[1]+'_'+percent_emotion.split(': ')[1]).replace(\"'\",'')\n",
        "    emotion_with_percent.append([ix,combined])\n",
        "    for_mat_file.append(combined)\n"
      ],
      "outputs": [],
      "execution_count": null,
      "metadata": {
        "collapsed": false
      }
    },
    {
      "cell_type": "code",
      "source": [
        "for ix, image in enumerate(trials):\n",
        "    if 'bmp' in image[-1]:\n",
        "        print image"
      ],
      "outputs": [],
      "execution_count": null,
      "metadata": {
        "collapsed": false,
        "outputHidden": false,
        "inputHidden": false
      }
    },
    {
      "cell_type": "code",
      "source": [
        "#combine arrays to get 3 column array\n",
        "\n\n",
        "arr=np.append(image_timing,emotion_with_percent,axis=1)\n",
        "arr=np.append(image_relative,arr,axis=1)\n",
        "print np.delete(arr,2,axis=1)\n",
        "arr=np.delete(arr,2,axis=1)\n",
        "arr=np.delete(arr,0,axis=0)\n",
        "\n"
      ],
      "outputs": [],
      "execution_count": null,
      "metadata": {
        "collapsed": false
      }
    },
    {
      "cell_type": "code",
      "source": [
        "#break apart array by condition/percent emotion\n",
        "\n",
        "happy_0=[]\n",
        "happy_25=[]\n",
        "happy_50=[]\n",
        "happy_75=[]\n",
        "happy_100=[]\n",
        "\n",
        "for index,emo in enumerate(arr):\n",
        "    if '_0' in emo[:][2:][0]:\n",
        "        happy_0.append(emo)\n",
        "    if '_25' in emo[:][2:][0]:\n",
        "        happy_25.append(emo)\n",
        "    if '_50' in emo[:][2:][0]:\n",
        "        happy_50.append(emo)\n",
        "    if '_75' in emo[:][2:][0]:\n",
        "        happy_75.append(emo)\n",
        "        print happy_75\n",
        "    if '_100' in emo[:][2:][0]:\n",
        "        happy_100.append(emo)        "
      ],
      "outputs": [],
      "execution_count": null,
      "metadata": {
        "collapsed": false
      }
    },
    {
      "cell_type": "code",
      "source": [
        "#generate mat file of each condition adn regressors\n",
        "\n",
        "# import scipy.io as scp\n",
        "scp.savemat('test.mat',dict({'duration':image_timing,'onsets':image_relative,'names':['happy','anger']}))\n",
        "# arr.getfield()"
      ],
      "outputs": [],
      "execution_count": null,
      "metadata": {
        "collapsed": false
      }
    },
    {
      "cell_type": "code",
      "source": [
        "#write array to text file\n",
        "\n",
        "def write_arr_tofile(array, file_with_ext,savemat):\n",
        "    with open(file_with_ext,\"w+\") as myfile:\n",
        "        np.savetxt(file_with_ext,array,delimiter=' ',fmt='%s')\n",
        "    "
      ],
      "outputs": [],
      "execution_count": null,
      "metadata": {
        "collapsed": true
      }
    },
    {
      "cell_type": "code",
      "source": [
        "# write_arr_tofile(happy_0,os.path.join(behav_dir,filename+'_happy0.txt'),1)\n",
        "# write_arr_tofile(happy_25,os.path.join(behav_dir,filename+'_happy25.txt'),1)\n",
        "# write_arr_tofile(happy_50,os.path.join(behav_dir,filename+'_happy50.txt'),1)\n",
        "# write_arr_tofile(happy_75,os.path.join(behav_dir,filename+'_happy75.txt'),1)\n",
        "# write_arr_tofile(happy_100,os.path.join(behav_dir,filename+'_happy100.txt'),1)"
      ],
      "outputs": [],
      "execution_count": null,
      "metadata": {
        "collapsed": false
      }
    },
    {
      "cell_type": "code",
      "source": [
        "\n",
        "import scipy.io as scp\n",
        "\n",
        "print arr[0:][0:]\n",
        "            \n",
        "scp.savemat(os.path.join(behav_dir,'output',subj+'_happy0.txt'),happy_0,appendmat=True)"
      ],
      "outputs": [],
      "execution_count": null,
      "metadata": {
        "collapsed": false
      }
    },
    {
      "cell_type": "code",
      "source": [
        "print subj_log_lines\n",
        "actual=[]\n",
        "for idx,line in enumerate(subj_log_lines):\n",
        "    if 'theseKeys' in line:\n",
        "        print line\n",
        "    if line[1].startswith('DATA'):\n",
        "        actual.append(line[2].split(': ')[1])\n"
      ],
      "outputs": [],
      "execution_count": null,
      "metadata": {
        "collapsed": false
      }
    },
    {
      "cell_type": "code",
      "source": [
        "response_corr=[]\n",
        "\n",
        "for y in range(len(index_with_cor)):\n",
        "    print y\n",
        "#     print [index_with_cor[x][0],index_with_cor[x][1]==actual[x]]\n",
        "#     response_corr.append([index_with_cor[x][0],index_with_cor[x][1]==actual[x]])\n"
      ],
      "outputs": [],
      "execution_count": null,
      "metadata": {
        "collapsed": false
      }
    },
    {
      "cell_type": "code",
      "source": [
        "# print 'face --> mask:',(np.subtract(float(fix[0][0]),float(mask[0][0])))\n",
        "# print 'mask --> fixation:',(np.subtract(float(fix[0][0]),float(image[0][0])))\n",
        "# print 'ISI, mask --> image:',(np.subtract(float(mask[0][0]),float(image[0][0])))\n",
        "# print 'number of trials:', len(trials)"
      ],
      "outputs": [],
      "execution_count": null,
      "metadata": {
        "collapsed": true,
        "inputHidden": true
      }
    },
    {
      "cell_type": "code",
      "source": [
        "def extract_emoperception_conditions(behav_data_path,file,output_txt_path):\n",
        "    behav_dir=behav_data_path\n",
        "    output_dir=output_txt_path\n",
        "    filename=file.split('/')[-1]\n",
        "\n",
        "    #define paths\n",
        "    # file=glob(os.path.join(behav_dir,'*.log'))[2]\n",
        "\n",
        "    #read subject log lines\n",
        "\n",
        "    subj_log_lines=np.genfromtxt(file,delimiter=\"\\t\",dtype=str)\n",
        "\n",
        "    #get scan trigger and trial timings and different trials\n",
        "\n",
        "    trials=[]\n",
        "    trial_timing=[]\n",
        "    scan_start=[]\n",
        "\n",
        "    for idx,line in enumerate(subj_log_lines):\n",
        "        if line[2] == 'text_2: autoDraw = True':\n",
        "            scan_start=float(line[0])\n",
        "        if line[2].endswith('autoDraw = True'):\n",
        "            trial_timing.append([line[0],line[1],line[2]])\n",
        "        if line[2].startswith('New trial'):\n",
        "            trials.append([line[0],line[2]])\n",
        "\n",
        "    #extract duration of stimulus in seconds\n",
        "\n",
        "    fix=np.array([x for x in trial_timing if x[2].startswith('FixCross')])\n",
        "    image=np.array([x for x in trial_timing if x[2].startswith('Face')])\n",
        "    mask=np.array([x for x in trial_timing if x[2].startswith('Mask')])\n",
        "\n\n",
        "    f=fix[:,:][:,0].reshape(150,1).astype(float)\n",
        "    i=image[:,:][:,0].reshape(150,1).astype(float)\n",
        "    m=mask[:,:][:,0].reshape(150,1).astype(float)\n",
        "\n",
        "    image_timing=np.subtract(m,i)\n",
        "    iti=np.subtract(f[1:],f[:-1])\n",
        "\n",
        "    #determine duration adn onsent time relative to scan start\n",
        "    image_relative=np.subtract(i,scan_start)\n",
        "    mask_relative=np.subtract(m,scan_start)\n",
        "\n",
        "    #extract condition per trial, and percent emotion  of stimulus\n",
        "    emotion_with_percent=[]\n",
        "    index_with_cor=[]\n",
        "\n",
        "    for ix,trial in enumerate(trials):\n",
        "        index_with_cor.append([ix,trial[1].split(':')[3].split(\"['\")[1].split(\"']\")[0]])\n",
        "        percent_emotion=trial[1].split('{')[:][1].split(',')[4]\n",
        "        emotion=trial[1].split('{')[:][1].split(',')[0]\n",
        "        combined=(emotion.split(\"': u'\")[1]+'_'+percent_emotion.split(': ')[1]).replace(\"'\",'')\n",
        "        emotion_with_percent.append([ix,combined])\n",
        "        #combine arrays to get 3 column array\n",
        "\n\n",
        "    #create new array with 3 columns\n",
        "    arr=np.append(image_timing,emotion_with_percent,axis=1)\n",
        "    arr=np.append(image_relative,arr,axis=1)\n",
        "    # print np.delete(arr,2,axis=1)\n",
        "    arr=np.delete(arr,2,axis=1)\n",
        "    arr=np.delete(arr,0,axis=0)\n",
        "\n\n",
        "    #break apart array by condition/percent emotion\n",
        "\n",
        "    happy_0=[]\n",
        "    happy_25=[]\n",
        "    happy_50=[]\n",
        "    happy_75=[]\n",
        "    happy_100=[]\n",
        "\n",
        "    for index,emo in enumerate(arr):\n",
        "        if '_0' in emo[:][2:][0]:\n",
        "            happy_0.append(emo)\n",
        "        if '_25' in emo[:][2:][0]:\n",
        "            happy_25.append(emo)\n",
        "        if '_50' in emo[:][2:][0]:\n",
        "            happy_50.append(emo)\n",
        "        if '_75' in emo[:][2:][0]:\n",
        "            happy_75.append(emo)\n",
        "        if '_100' in emo[:][2:][0]:\n",
        "            happy_100.append(emo)\n",
        "\n",
        "    #write array to text file\n",
        "\n",
        "    def write_arr_tofile(array, file_with_ext):\n",
        "        with open(file_with_ext,\"w+\") as myfile:\n",
        "            np.savetxt(file_with_ext,array,delimiter=' ',fmt='%s')\n",
        "\n\n\n",
        "    write_arr_tofile(happy_0,os.path.join(behav_dir,output_dir,filename+'_happy0.txt'))\n",
        "    write_arr_tofile(happy_25,os.path.join(behav_dir,output_dir,filename+'_happy25.txt'))\n",
        "    write_arr_tofile(happy_50,os.path.join(behav_dir,output_dir,filename+'_happy50.txt'))\n",
        "    write_arr_tofile(happy_75,os.path.join(behav_dir,output_dir,filename+'_happy75.txt'))\n",
        "    write_arr_tofile(happy_100,os.path.join(behav_dir,output_dir,filename+'_happy100.txt'))\n",
        "\n",
        "    actual=[]\n",
        "    for idx,line in enumerate(subj_log_lines):\n",
        "        if 'theseKeys' in line[2]:\n",
        "            print line[2]\n",
        "        if line[1].startswith('DATA'):\n",
        "            actual.append(line[2].split(': ')[1])\n",
        "\n",
        "    response_corr=[]\n",
        "\n",
        "    for y in range(len(index_with_cor)):\n",
        "        print y\n",
        "    #     print [index_with_cor[x][0],index_with_cor[x][1]==actual[x]]\n",
        "    #     response_corr.append([index_with_cor[x][0],index_with_cor[x][1]==actual[x]])\n",
        "\n"
      ],
      "outputs": [],
      "execution_count": null,
      "metadata": {
        "collapsed": false,
        "inputHidden": true
      }
    },
    {
      "cell_type": "code",
      "source": [
        "# behav_path=('/Users/lillyel-said/Desktop/stanford/scripts/jupyter_notebooks/anger_good')\n",
        "# curr_dir = os.getcwd()\n",
        "# outputpath=os.path.join(behav_path,'output')\n",
        "\n",
        "# current_dir=[f for f in os.listdir('.') if os.path.isfile(f)]\n",
        "\n",
        "# for f in current_dir:\n",
        "#     filename, ext = os.path.splitext(f)\n",
        "#     if ext=='.log':\n",
        "#         logfile = os.path.join(curr_dir,f)\n",
        "#         try:\n",
        "#             extract_emoperception_conditions(behav_path,logfile,outputpath)\n",
        "#         except:\n",
        "#             pass\n"
      ],
      "outputs": [],
      "execution_count": null,
      "metadata": {
        "collapsed": true,
        "inputHidden": true
      }
    }
  ],
  "metadata": {
    "anaconda-cloud": {},
    "kernelspec": {
      "name": "python2",
      "language": "python",
      "display_name": "Python 2"
    },
    "language_info": {
      "mimetype": "text/x-python",
      "nbconvert_exporter": "python",
      "name": "python",
      "pygments_lexer": "ipython2",
      "version": "2.7.12",
      "file_extension": ".py",
      "codemirror_mode": {
        "version": 2,
        "name": "ipython"
      }
    },
    "kernel_info": {
      "name": "python2"
    },
    "nteract": {
      "version": "0.11.2"
    }
  },
  "nbformat": 4,
  "nbformat_minor": 1
}