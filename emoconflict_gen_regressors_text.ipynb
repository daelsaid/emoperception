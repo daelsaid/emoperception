{
  "cells": [
    {
      "cell_type": "code",
      "source": [
        "import os\n",
        "from glob import glob\n",
        "import numpy as np\n",
        "import re\n",
        "import matplotlib as plt \n",
        "import scipy.io as scp\n",
        "%matplotlib\n",
        "\n",
        "#define paths\n",
        "\n",
        "#behav_dir='/Volumes/daelsaid/data/emoperception_processing/happy_cleanbehav/'\n",
        "main_dir='/Users/lillyel-said/Desktop/stanford/scripts/jupyter_notebooks/emopercept'\n",
        "happy=glob(os.path.join(main_dir,'happy_cleanbehav','*.log'))[2]\n",
        "anger=glob(os.path.join(main_dir,'anger_good','*.log'))[2]\n",
        "\n",
        "# files=glob(os.path.join(behav_dir,'*.log'))\n",
        "\n\n\n",
        "#read subject log lines into array\n",
        "subj_log_lines=np.genfromtxt(happy,delimiter=\"\\t\",dtype=str)\n",
        "\n\n",
        "#get scan trigger and trial timings and different trials\n",
        "\n",
        "trials=[]\n",
        "trial_timing=[]\n",
        "scan_start=[]\n",
        "\n",
        "for idx,line in enumerate(subj_log_lines):\n",
        "    if line[2] == 'text_2: autoDraw = True':\n",
        "        scan_start=float(line[0])        \n",
        "    if line[2].endswith('autoDraw = True'):\n",
        "        trial_timing.append([line[0],line[1],line[2]])\n",
        "    if line[2].startswith('New trial'):\n",
        "        trials.append([line[0],line[2]])\n",
        "    \n",
        "    \n",
        "    \n",
        "#extract duration of stimulus in seconds\n",
        "\n",
        "fix=np.array([x for x in trial_timing if x[2].startswith('FixCross')])\n",
        "image=np.array([x for x in trial_timing if x[2].startswith('Face')])\n",
        "mask=np.array([x for x in trial_timing if x[2].startswith('Mask')])\n",
        "\n\n",
        "f=fix[:,:][:,0].reshape(150,1).astype(float) \n",
        "i=image[:,:][:,0].reshape(150,1).astype(float)\n",
        "m=mask[:,:][:,0].reshape(150,1).astype(float) \n",
        "\n",
        "image_timing=np.subtract(m,i)\n",
        "iti=np.subtract(f[1:],f[:-1])\n",
        "\n\n",
        "#determine duration adn onsent time relative to scan start \n",
        "image_relative=np.subtract(i,scan_start)\n",
        "mask_relative=np.subtract(m,scan_start)\n",
        "\n",
        "#extract condition per trial, and percent emotion  of stimulus\n",
        "emotion_with_percent=[]\n",
        "index_with_cor=[]\n",
        "for_mat_file=[]\n",
        "for ix,trial in enumerate(trials):\n",
        "    index_with_cor.append([ix,trial[1].split(':')[3].split(\"['\")[1].split(\"']\")[0]])\n",
        "    percent_emotion=trial[1].split('{')[:][1].split(',')[4]\n",
        "    emotion=trial[1].split('{')[:][1].split(',')[0]\n",
        "    combined=(emotion.split(\"': u'\")[1]+'_'+percent_emotion.split(': ')[1]).replace(\"'\",'')\n",
        "    emotion_with_percent.append([ix,combined])\n",
        "    for_mat_file.append(combined)\n",
        "\n",
        "    \n",
        "    #combine arrays to get 3 column array\n",
        "arr=np.append(image_timing,emotion_with_percent,axis=1)\n",
        "arr=np.append(image_relative,arr,axis=1)\n",
        "print np.delete(arr,2,axis=1)\n",
        "arr=np.delete(arr,2,axis=1)\n",
        "arr=np.delete(arr,0,axis=0)\n",
        "\n",
        "#break apart array by condition/percent emotion\n",
        "\n",
        "happy_0=[]\n",
        "happy_25=[]\n",
        "happy_50=[]\n",
        "happy_75=[]\n",
        "happy_100=[]\n",
        "\n",
        "for index,emo in enumerate(arr):\n",
        "    if '_0' in emo[:][2:][0]:\n",
        "        happy_0.append(emo)\n",
        "    if '_25' in emo[:][2:][0]:\n",
        "        happy_25.append(emo)\n",
        "    if '_50' in emo[:][2:][0]:\n",
        "        happy_50.append(emo)\n",
        "    if '_75' in emo[:][2:][0]:\n",
        "        happy_75.append(emo)\n",
        "    if '_100' in emo[:][2:][0]:\n",
        "        happy_100.append(emo)        \n",
        "        \n",
        "#write array to text file\n",
        "\n",
        "def write_arr_tofile(array, file_with_ext,savemat):\n",
        "    with open(file_with_ext,\"w+\") as myfile:\n",
        "        np.savetxt(file_with_ext,array,delimiter=' ',fmt='%s')\n",
        "\n",
        "        \n",
        "write_arr_tofile(happy_0,os.path.join(behav_dir,'output',filename+'_happy0.txt'),1)\n",
        "write_arr_tofile(happy_25,os.path.join(behav_dir,'output',filename+'_happy25.txt'),1)\n",
        "write_arr_tofile(happy_50,os.path.join(behav_dir,'output',filename+'_happy50.txt'),1)\n",
        "write_arr_tofile(happy_75,os.path.join(behav_dir,'output',filename+'_happy75.txt'),1)\n",
        "write_arr_tofile(happy_100,os.path.join(behav_dir,'output',filename+'_happy100.txt'),1)\n",
        "#generate mat file of each condition adn regressors\n",
        "\n",
        "# scp.savemat('test.mat',dict({'duration':image_timing,'onsets':image_relative,'names':['happy','anger']}))\n",
        "# scp.savemat(os.path.join(behav_dir,'output',filename+'_happy0.txt'),happy_0,appendmat=True)"
      ],
      "outputs": [
        {
          "output_type": "stream",
          "name": "stdout",
          "text": [
            "Using matplotlib backend: MacOSX\n"
          ]
        }
      ],
      "execution_count": 8,
      "metadata": {
        "collapsed": false,
        "outputHidden": false,
        "inputHidden": false
      }
    },
    {
      "cell_type": "code",
      "source": [
        "\n\n",
        "#extract correct responses\n",
        "\n\n",
        "actual=[]\n",
        "for idx,line in enumerate(subj_log_lines):\n",
        "    if 'theseKeys' in line[2]:\n",
        "        print line[2]\n",
        "    if line[1].startswith('DATA'):\n",
        "        actual.append(line[2].split(': ')[1])\n",
        "\n",
        "        \n",
        "response_corr=[]\n",
        "\n",
        "for y in range(len(index_with_cor)):\n",
        "    print y\n",
        "#     print [index_with_cor[x][0],index_with_cor[x][1]==actual[x]]\n",
        "#     response_corr.append([index_with_cor[x][0],index_with_cor[x][1]==actual[x]])\n",
        "        "
      ],
      "outputs": [],
      "execution_count": null,
      "metadata": {
        "collapsed": false,
        "outputHidden": false,
        "inputHidden": false
      }
    },
    {
      "cell_type": "code",
      "source": [
        "def emotion_lines(emotion_files):\n",
        "    print np.genfromtxt(emotion_files,delimiter=\"\\t\",dtype=str)\n",
        "    return subj_log_lines"
      ],
      "outputs": [
        {
          "output_type": "stream",
          "name": "stdout",
          "text": [
            "[['80.9022 ' 'EXP '\n",
            "  \"Created window1 = Window(allowGUI=False, allowStencil=False, autoLog=True, bitsMode=UNKNOWN, blendMode='avg', color=array([ 0.,  0.,  0.]), colorSpace='rgb', fullscr=UNKNOWN, gamma=None, lms=UNKNOWN, monitor=<psychopy.monitors.calibTools.Monitor object at 0x112e2add0>, multiSample=False, name='window1', numSamples=2, pos=[0, 0], screen=0, size=array([1920, 1080]), stereo=False, units=u'norm', useFBO=True, useRetina=False, viewOri=0.0, viewPos=None, viewScale=None, waitBlanking=True, winType='pyglet')\"]\n",
            " ['80.9023 ' 'EXP ' 'window1: recordFrameIntervals = False']\n",
            " ['81.0678 ' 'EXP ' 'window1: recordFrameIntervals = True']\n",
            " ..., \n",
            " ['465.9793 ' 'EXP ' \"window1: blendMode = 'avg'\"]\n",
            " ['465.9824 ' 'DATA ' 'Keypress: space']\n",
            " ['466.2454 ' 'EXP ' 'window1: mouseVisible = True']]\n",
            "[['80.9022 ' 'EXP '\n",
            "  \"Created window1 = Window(allowGUI=False, allowStencil=False, autoLog=True, bitsMode=UNKNOWN, blendMode='avg', color=array([ 0.,  0.,  0.]), colorSpace='rgb', fullscr=UNKNOWN, gamma=None, lms=UNKNOWN, monitor=<psychopy.monitors.calibTools.Monitor object at 0x112e2add0>, multiSample=False, name='window1', numSamples=2, pos=[0, 0], screen=0, size=array([1920, 1080]), stereo=False, units=u'norm', useFBO=True, useRetina=False, viewOri=0.0, viewPos=None, viewScale=None, waitBlanking=True, winType='pyglet')\"]\n",
            " ['80.9023 ' 'EXP ' 'window1: recordFrameIntervals = False']\n",
            " ['81.0678 ' 'EXP ' 'window1: recordFrameIntervals = True']\n",
            " ..., \n",
            " ['465.9793 ' 'EXP ' \"window1: blendMode = 'avg'\"]\n",
            " ['465.9824 ' 'DATA ' 'Keypress: space']\n",
            " ['466.2454 ' 'EXP ' 'window1: mouseVisible = True']]\n"
          ]
        }
      ],
      "execution_count": 7,
      "metadata": {
        "collapsed": false,
        "outputHidden": false,
        "inputHidden": false
      }
    },
    {
      "cell_type": "code",
      "source": [],
      "outputs": [],
      "execution_count": null,
      "metadata": {
        "collapsed": false,
        "outputHidden": false,
        "inputHidden": false
      }
    }
  ],
  "metadata": {
    "kernel_info": {
      "name": "python2"
    },
    "language_info": {
      "mimetype": "text/x-python",
      "nbconvert_exporter": "python",
      "name": "python",
      "pygments_lexer": "ipython2",
      "version": "2.7.12",
      "file_extension": ".py",
      "codemirror_mode": {
        "version": 2,
        "name": "ipython"
      }
    },
    "kernelspec": {
      "name": "python2",
      "language": "python",
      "display_name": "Python 2"
    },
    "nteract": {
      "version": "0.9.1"
    }
  },
  "nbformat": 4,
  "nbformat_minor": 4
}